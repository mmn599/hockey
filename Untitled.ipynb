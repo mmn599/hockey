{
 "cells": [
  {
   "cell_type": "code",
   "execution_count": 1,
   "metadata": {
    "collapsed": false
   },
   "outputs": [
    {
     "name": "stdout",
     "output_type": "stream",
     "text": [
      "<class 'pandas.core.series.Series'>\n"
     ]
    },
    {
     "data": {
      "text/plain": [
       "T_Season_Goals         0\n",
       "GameName          2015_0\n",
       "T_Season_Goals         0\n",
       "GameName          2015_0\n",
       "T_Season_Goals         0\n",
       "GameName          2015_0\n",
       "T_Season_Goals         0\n",
       "GameName          2015_0\n",
       "T_Season_Goals         0\n",
       "GameName          2015_0\n",
       "T_Season_Goals         0\n",
       "GameName          2015_0\n",
       "T_Season_Goals         0\n",
       "GameName          2015_0\n",
       "T_Season_Goals         0\n",
       "GameName          2015_0\n",
       "T_Season_Goals         0\n",
       "GameName          2015_0\n",
       "T_Season_Goals         0\n",
       "GameName          2015_0\n",
       "T_Season_Goals         0\n",
       "GameName          2015_0\n",
       "T_Season_Goals         0\n",
       "GameName          2015_0\n",
       "T_Season_Goals         0\n",
       "GameName          2015_0\n",
       "T_Season_Goals         0\n",
       "GameName          2015_0\n",
       "T_Season_Goals         0\n",
       "GameName          2015_0\n",
       "                   ...  \n",
       "T_Season_Goals         0\n",
       "GameName          2015_0\n",
       "T_Season_Goals         0\n",
       "GameName          2015_0\n",
       "T_Season_Goals         0\n",
       "GameName          2015_0\n",
       "T_Season_Goals         0\n",
       "GameName          2015_0\n",
       "T_Season_Goals         0\n",
       "GameName          2015_0\n",
       "T_Season_Goals         0\n",
       "GameName          2015_0\n",
       "T_Season_Goals         0\n",
       "GameName          2015_0\n",
       "T_Season_Goals         0\n",
       "GameName          2015_0\n",
       "T_Season_Goals         0\n",
       "GameName          2015_0\n",
       "T_Season_Goals         0\n",
       "GameName          2015_0\n",
       "T_Season_Goals         0\n",
       "GameName          2015_0\n",
       "T_Season_Goals         0\n",
       "GameName          2015_0\n",
       "T_Season_Goals         0\n",
       "GameName          2015_0\n",
       "T_Season_Goals         0\n",
       "GameName          2015_0\n",
       "T_Season_Goals         0\n",
       "GameName          2015_0\n",
       "dtype: object"
      ]
     },
     "metadata": {},
     "output_type": "display_data"
    }
   ],
   "source": [
    "import scraper\n",
    "import features\n",
    "from IPython.core import display as ICD\n",
    "\n",
    "X, y = features.get_skater_data()\n",
    "\n",
    "print(type(X))\n",
    "ICD.display(X)"
   ]
  },
  {
   "cell_type": "code",
   "execution_count": null,
   "metadata": {
    "collapsed": true
   },
   "outputs": [],
   "source": []
  },
  {
   "cell_type": "code",
   "execution_count": null,
   "metadata": {
    "collapsed": true
   },
   "outputs": [],
   "source": []
  }
 ],
 "metadata": {
  "kernelspec": {
   "display_name": "Python [Root]",
   "language": "python",
   "name": "Python [Root]"
  },
  "language_info": {
   "codemirror_mode": {
    "name": "ipython",
    "version": 3
   },
   "file_extension": ".py",
   "mimetype": "text/x-python",
   "name": "python",
   "nbconvert_exporter": "python",
   "pygments_lexer": "ipython3",
   "version": "3.5.2"
  }
 },
 "nbformat": 4,
 "nbformat_minor": 0
}
