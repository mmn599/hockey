{
 "cells": [
  {
   "cell_type": "markdown",
   "metadata": {},
   "source": [
    "# Here's what you gotta do\n",
    "\n",
    "If you have Anaconda installed all this shit should work. It uses a SQLite database. It's bad code. <br>\n",
    "\n",
    "Go down to the cell labeled 'Build everything' for instructions on how to build the database. Run all the cells above it first. "
   ]
  },
  {
   "cell_type": "markdown",
   "metadata": {},
   "source": [
    "## Database building functions"
   ]
  },
  {
   "cell_type": "code",
   "execution_count": 12,
   "metadata": {
    "collapsed": false
   },
   "outputs": [],
   "source": [
    "import sys\n",
    "import pandas as pd\n",
    "import sqlalchemy\n",
    "import glob\n",
    "from IPython.core import display as ICD\n",
    "import datetime\n",
    "from pandas.io import sql\n",
    "from tqdm import tqdm\n",
    "\n",
    "PLAYER_STATS_FILE = \"PlayerStats\"\n",
    "HOME = \"Home\"\n",
    "AWAY = \"Away\"\n",
    "TABLE_GAMEOVERALL = \"GAME_STATS\"\n",
    "TABLE_SKATERGAME = \"SKATER_GAME\"\n",
    "TABLE_GOALIEGAME = \"GOALIE_GAME\"\n",
    "TABLE_PLAYER = \"PLAYER\"\n",
    "TABLE_TEAM = \"TEAM\"\n",
    "\n",
    "def get_playerstats_files(gamename):\n",
    "    team1 = GAMESDIR + gamename + '_' + PLAYER_STATS_FILE + HOME + '.csv'\n",
    "    team2 = GAMESDIR + gamename + '_' + PLAYER_STATS_FILE + AWAY + '.csv'\n",
    "    return team1, team2\n",
    "\n",
    "def gamefile_to_gamename(gamefile):\n",
    "    gamename = str(gamefile)\n",
    "    gamename = gamename.replace('.csv', '')\n",
    "    gamename = gamename.replace(\"./Games\\\\\", '')\n",
    "    return gamename\n",
    "\n",
    "def append_columns(game, team1, team2):\n",
    "    d_game['GameName'] = gamename\n",
    "    d_team1['GameName'] = gamename\n",
    "    d_team2['GameName'] = gamename\n",
    "    d_team1['Result'] = TEAM1\n",
    "    \n",
    "def get_gamename(season, game):\n",
    "    return str(season) + \"_\" + str(game[0])\n",
    "\n",
    "def build_games_table(db_name, csv_games):  \n",
    "    print('Building database table for all overall games...')\n",
    "    engine = get_engine(db_name)\n",
    "    sql.execute('DROP TABLE IF EXISTS %s' % TABLE_GAMEOVERALL, engine)\n",
    "    \n",
    "    d_games = pd.read_csv(csv_games)\n",
    "    gamenames = []\n",
    "    dates = []\n",
    "    \n",
    "    # TODO: get rid of this for loop\n",
    "    for game in d_games.iterrows():\n",
    "        gamename = get_gamename(2015, game)\n",
    "        gamenames.append(gamename)\n",
    "        dt = datetime.datetime.strptime(game[1][1], '%Y-%m-%d')\n",
    "        date = int(dt.timestamp())\n",
    "        dates.append(date)\n",
    "    \n",
    "    d_games['DateTimestamp'] = dates\n",
    "    d_games['GameName'] = gamenames\n",
    "    d_games = d_games.rename(index=str, columns={\"Unnamed: 6\":\"OT\"})\n",
    "    d_games = d_games.drop('Notes', 1)\n",
    "    d_games.OT = d_games.OT==\"OT\"\n",
    "    d_games.to_sql(TABLE_GAMEOVERALL, engine, if_exists='replace')\n",
    "    \n",
    "    return db_name\n",
    "    \n",
    "def build_playergames_table(db_name, all_skater_csvs, all_goalie_csvs):\n",
    "    print('Building database table for all player game stats...')\n",
    "    engine = get_engine(db_name)\n",
    "    sql.execute('DROP TABLE IF EXISTS %s' % TABLE_SKATERGAME, engine)\n",
    "    sql.execute('DROP TABLE IF EXISTS %s' % TABLE_GOALIEGAME, engine)\n",
    "    \n",
    "    engine = get_engine(db_name)\n",
    "    \n",
    "    print(\"Skaters...\")\n",
    "    for skater_csv in tqdm(all_skater_csvs):\n",
    "        d_skater = pd.read_csv(skater_csv, encoding=\"latin_1\")\n",
    "        d_skater.to_sql(TABLE_SKATERGAME, engine, if_exists='append')\n",
    "        \n",
    "    print(\"Goalies...\")\n",
    "    for goalie_csv in tqdm(all_goalie_csvs):\n",
    "        d_goalie = pd.read_csv(goalie_csv, encoding=\"latin_1\")\n",
    "        d_goalie.to_sql(TABLE_GOALIEGAME, engine, if_exists='append')"
   ]
  },
  {
   "cell_type": "markdown",
   "metadata": {},
   "source": [
    "## Database lookup functions"
   ]
  },
  {
   "cell_type": "code",
   "execution_count": 13,
   "metadata": {
    "collapsed": true
   },
   "outputs": [],
   "source": [
    "def get_engine(db_name):\n",
    "    return sqlalchemy.create_engine('sqlite:///' + db_name)\n",
    "\n",
    "def view_database(db_name, table):\n",
    "    engine = get_engine(db_name)\n",
    "    d_db = pd.read_sql_table(table, engine)\n",
    "    ICD.display(d_db)\n",
    "    \n",
    "def get_all_games(db_name):\n",
    "    engine = get_engine(db_name)\n",
    "    d_games = pd.read_sql_table(TABLE_GAMEOVERALL, engine)\n",
    "    return d_games\n",
    "    \n",
    "def get_game_by_gamename(engine, gamename):\n",
    "    sql_query = 'SELECT * from ' + TABLE_GAMEOVERALL + ' WHERE GameName == \\'' + str(gamename) + '\\';'\n",
    "    game = pd.read_sql_query(sql_query, engine).iloc[0]\n",
    "    return game\n",
    "\n",
    "def _get_between_date_sql_query(timestamp1, timestamp2):\n",
    "    return 'DateTimestamp >= ' + str(timestamp1) + ' AND ' + 'DateTimestamp <= ' + str(timestamp2)\n",
    "\n",
    "def get_games_in_daterange(engine, date1, date2):\n",
    "    date1 = int(date1.timestamp())\n",
    "    date2 = int(date2.timestamp())\n",
    "    sql_query = 'SELECT * from ' + TABLE_GAMEOVERALL + ' WHERE ' + _get_between_date_sql_query(date1, date2)\n",
    "    games = pd.read_sql_query(sql_query, engine)\n",
    "    return games\n",
    "\n",
    "def get_playergames_in_daterange(engine, playername, date1, date2, skater = True):\n",
    "    date1 = int(date1.timestamp())\n",
    "    date2 = int(date2.timestamp())\n",
    "    sql_query = 'SELECT * from ' + TABLE_SKATERGAME + ' WHERE ' + 'Player == ' + \"'\" + \\\n",
    "        playername + \"'\"  + \" AND \" + _get_between_date_sql_query(date1, date2) + \";\" \n",
    "    playergames = pd.read_sql_query(sql_query, engine)\n",
    "    return playergames\n"
   ]
  },
  {
   "cell_type": "markdown",
   "metadata": {},
   "source": [
    "## Web scraping functions"
   ]
  },
  {
   "cell_type": "code",
   "execution_count": 14,
   "metadata": {
    "collapsed": false
   },
   "outputs": [],
   "source": [
    "import urllib.request\n",
    "import pandas as pd\n",
    "from bs4 import BeautifulSoup\n",
    "import time\n",
    "import csv\n",
    "\n",
    "def headers_and_rows_to_csv(file_name, headers, rows):\n",
    "    with open(file_name, 'w') as csvfile:\n",
    "        writer = csv.DictWriter(csvfile, fieldnames=headers)\n",
    "        writer.writeheader()\n",
    "        for row in rows:\n",
    "            row_dict = {}\n",
    "            for i,cell in enumerate(row):\n",
    "                row_dict[headers[i]] = cell\n",
    "            writer.writerow(row_dict)\n",
    "\n",
    "def build_games_csv(url, file_name):\n",
    "    print('Building csv file for all overall games...')\n",
    "    soup = BeautifulSoup(urllib.request.urlopen(url).read(), \"lxml\")\n",
    "\n",
    "    tablehead = soup.find('thead')\n",
    "    tablebody = soup.find('tbody')\n",
    "\n",
    "    headers = [header.text for header in tablehead.find('tr').find_all('th')]\n",
    "    headers.insert(0, \"URL\")\n",
    "    rows = []\n",
    "\n",
    "    for row in tablebody.find_all('tr'):\n",
    "        cells = [cell.text for cell in row.find_all(['th','td'])]\n",
    "        url = 'http://www.hockey-reference.com' + row.find('th').find('a')['href']\n",
    "        cells.insert(0, url)\n",
    "        rows.append(cells)\n",
    "        \n",
    "    headers_and_rows_to_csv(file_name, headers, rows)\n",
    "    \n",
    "    return file_name\n",
    "    \n",
    "def get_playergame_csvname(gamename, home, skater):\n",
    "    team = \"HOME\" if home else \"AWAY\"\n",
    "    player = \"SKATER\" if skater else \"GOALIE\"\n",
    "    directory = DIR_SKATERS if skater else DIR_GOALIES\n",
    "    return directory + gamename + \"_\" + team + \"_\" + player + \".csv\"\n",
    "\n",
    "def player_game_table_to_csv(file_name, table, game, home):\n",
    "    team = game.Home if home else game.Visitor\n",
    "    date = game.Date\n",
    "    timestamp = game.DateTimestamp\n",
    "    url = game.URL\n",
    "    gamename = game.GameName\n",
    "    \n",
    "    tablehead = table.find('thead')\n",
    "    tablebody = table.find('tbody')\n",
    "    \n",
    "    headers = [header.text for header in tablehead.find_all('tr')[1].find_all('th')]\n",
    "    headers.append(\"URL\")\n",
    "    headers.append(\"DateTimestamp\")\n",
    "    headers.append(\"Home\")\n",
    "    headers.append(\"Team\")\n",
    "    headers.append(\"GameName\")\n",
    "    headers.pop(0)\n",
    "    \n",
    "    rows = []\n",
    "    for row in tablebody.find_all('tr'):\n",
    "        cells = [cell.text for cell in row.find_all(['th','td'])]\n",
    "        cells.append(url)\n",
    "        cells.append(timestamp)\n",
    "        cells.append(home)\n",
    "        cells.append(team)\n",
    "        cells.append(gamename)\n",
    "        cells.pop(0)\n",
    "        rows.append(cells)\n",
    "        \n",
    "    headers_and_rows_to_csv(file_name, headers, rows)\n",
    "        \n",
    "def build_playergame_csvs(game):\n",
    "    soup = BeautifulSoup(urllib.request.urlopen(game.URL).read(), \"lxml\")\n",
    "    tables = soup.find_all('table')\n",
    "    table_skaters_away = tables[2]\n",
    "    table_goalies_away = tables[3]\n",
    "    table_skaters_home = tables[4]\n",
    "    table_goalies_home = tables[5]\n",
    "    \n",
    "    home_skater_csv_name = get_playergame_csvname(game.GameName, home=True, skater=True)\n",
    "    away_skater_csv_name = get_playergame_csvname(game.GameName, home=False, skater=True)\n",
    "    player_game_table_to_csv(home_skater_csv_name, table_skaters_home, game, home=True)\n",
    "    player_game_table_to_csv(away_skater_csv_name, table_skaters_away, game, home=False)\n",
    "    \n",
    "    home_goalie_csv_name = get_playergame_csvname(game.GameName, home=True, skater=False)\n",
    "    away_goalie_csv_name = get_playergame_csvname(game.GameName, home=False, skater=False)\n",
    "    player_game_table_to_csv(home_goalie_csv_name, table_goalies_home, game, home=True)\n",
    "    player_game_table_to_csv(away_goalie_csv_name, table_goalies_away, game, home=False)\n",
    "    \n",
    "    skater_csvs = [home_skater_csv_name, away_skater_csv_name]\n",
    "    goalie_csvs = [table_goalies_home, table_goalies_away]\n",
    "    \n",
    "    return skater_csvs, goalie_csvs\n",
    "\n",
    "def build_all_playergame_csvs(games):\n",
    "    print('Scraping and building csv files for all player stats...')\n",
    "    all_skater_csvs = []\n",
    "    all_goalie_csvs = []\n",
    "    for i in tqdm(range(games.shape[0])):\n",
    "        game = games.iloc[i]\n",
    "        skater_csvs, goalie_csvs = build_playergame_csvs(game)\n",
    "        all_skater_csvs.extend(skater_csvs)\n",
    "        all_goalie_csvs.extend(goalie_csvs)\n",
    "        time.sleep(1)\n",
    "        \n",
    "    return all_skater_csvs, all_goalie_csvs\n",
    "    "
   ]
  },
  {
   "cell_type": "markdown",
   "metadata": {},
   "source": [
    "## Build everything\n",
    "\n",
    "Call the build_everything function to scrape and build the whole god damn database. It takes a while. Mostly due to an artifical sleep for one second line of code. I put that in there so hockey-reference.com doesn't get mad at us. It may not be neccesary.\n",
    "\n",
    "Switch webscrape to false if you want to rebuild the database but not grab the data from hockey-reference. Do this if shit breaks the first time."
   ]
  },
  {
   "cell_type": "code",
   "execution_count": 15,
   "metadata": {
    "collapsed": false
   },
   "outputs": [],
   "source": [
    "import os\n",
    "import glob\n",
    "\n",
    "### Constants ###\n",
    "DIR_GAMES = \"./data/Games/\"\n",
    "DIR_SKATERS = DIR_GAMES + \"Skaters/\"\n",
    "DIR_GOALIES = DIR_GAMES + \"Goalies/\"\n",
    "FILE_GAMES = DIR_GAMES + \"2015Games.csv\"\n",
    "URL_Games_20152016 = \"http://www.hockey-reference.com/leagues/NHL_2016_games.html\"\n",
    "DB_NAME = \"test.db\"\n",
    "\n",
    "def build_everything(webscrape=False):\n",
    "    \n",
    "    if not os.path.exists(DIR_SKATERS):\n",
    "        os.makedirs(DIR_SKATERS)\n",
    "        \n",
    "    if not os.path.exists(DIR_GOALIES):\n",
    "        os.makedirs(DIR_GOALIES)\n",
    "    \n",
    "    if(webscrape):\n",
    "        csv_games = build_games_csv(URL_Games_20152016, FILE_GAMES)\n",
    "        db_name = build_games_table(DB_NAME, csv_games)\n",
    "        d_games = get_all_games(db_name)\n",
    "        all_skater_csvs, all_goalie_csvs = build_all_playergame_csvs(d_games)\n",
    "    else:\n",
    "        print('Collecting csvs...')\n",
    "        all_skater_csvs = []\n",
    "        all_goalie_csvs = []\n",
    "        for name in glob.glob(DIR_SKATERS + \"*\"):\n",
    "            all_skater_csvs.append(name)\n",
    "        for name in glob.glob(DIR_GOALIES + \"*\"):\n",
    "            all_goalie_csvs.append(name)\n",
    "            \n",
    "    build_playergames_table(DB_NAME, all_skater_csvs, all_goalie_csvs)\n",
    "    print('Done!')"
   ]
  },
  {
   "cell_type": "code",
   "execution_count": null,
   "metadata": {
    "collapsed": true
   },
   "outputs": [],
   "source": [
    "# build_everything(True)"
   ]
  },
  {
   "cell_type": "markdown",
   "metadata": {},
   "source": [
    "## Examples"
   ]
  },
  {
   "cell_type": "markdown",
   "metadata": {},
   "source": [
    "### Lookup player's games by date and player name"
   ]
  },
  {
   "cell_type": "code",
   "execution_count": 1,
   "metadata": {
    "collapsed": false
   },
   "outputs": [
    {
     "ename": "NameError",
     "evalue": "name 'datetime' is not defined",
     "output_type": "error",
     "traceback": [
      "\u001b[1;31m---------------------------------------------------------------------------\u001b[0m",
      "\u001b[1;31mNameError\u001b[0m                                 Traceback (most recent call last)",
      "\u001b[1;32m<ipython-input-1-2edb2c40c8a6>\u001b[0m in \u001b[0;36m<module>\u001b[1;34m()\u001b[0m\n\u001b[1;32m----> 1\u001b[1;33m \u001b[0mdate1\u001b[0m \u001b[1;33m=\u001b[0m \u001b[0mdatetime\u001b[0m\u001b[1;33m.\u001b[0m\u001b[0mdatetime\u001b[0m\u001b[1;33m(\u001b[0m\u001b[1;36m2015\u001b[0m\u001b[1;33m,\u001b[0m \u001b[1;36m10\u001b[0m\u001b[1;33m,\u001b[0m \u001b[1;36m7\u001b[0m\u001b[1;33m)\u001b[0m\u001b[1;33m\u001b[0m\u001b[0m\n\u001b[0m\u001b[0;32m      2\u001b[0m \u001b[0mdate2\u001b[0m \u001b[1;33m=\u001b[0m \u001b[0mdatetime\u001b[0m\u001b[1;33m.\u001b[0m\u001b[0mdatetime\u001b[0m\u001b[1;33m(\u001b[0m\u001b[1;36m2015\u001b[0m\u001b[1;33m,\u001b[0m \u001b[1;36m12\u001b[0m\u001b[1;33m,\u001b[0m \u001b[1;36m7\u001b[0m\u001b[1;33m)\u001b[0m\u001b[1;33m\u001b[0m\u001b[0m\n\u001b[0;32m      3\u001b[0m \u001b[0mplayergames\u001b[0m \u001b[1;33m=\u001b[0m \u001b[0mget_playergames_in_daterange\u001b[0m\u001b[1;33m(\u001b[0m\u001b[0mget_engine\u001b[0m\u001b[1;33m(\u001b[0m\u001b[0mDB_NAME\u001b[0m\u001b[1;33m)\u001b[0m\u001b[1;33m,\u001b[0m \u001b[1;34m'Mikael Backlund'\u001b[0m\u001b[1;33m,\u001b[0m \u001b[0mdate1\u001b[0m\u001b[1;33m,\u001b[0m \u001b[0mdate2\u001b[0m\u001b[1;33m)\u001b[0m\u001b[1;33m\u001b[0m\u001b[0m\n\u001b[0;32m      4\u001b[0m \u001b[0mprint\u001b[0m\u001b[1;33m(\u001b[0m\u001b[0mplayergames\u001b[0m\u001b[1;33m.\u001b[0m\u001b[0mcolumns\u001b[0m\u001b[1;33m.\u001b[0m\u001b[0mvalues\u001b[0m\u001b[1;33m)\u001b[0m\u001b[1;33m\u001b[0m\u001b[0m\n\u001b[0;32m      5\u001b[0m \u001b[0mICD\u001b[0m\u001b[1;33m.\u001b[0m\u001b[0mdisplay\u001b[0m\u001b[1;33m(\u001b[0m\u001b[0mplayergames\u001b[0m\u001b[1;33m)\u001b[0m\u001b[1;33m\u001b[0m\u001b[0m\n",
      "\u001b[1;31mNameError\u001b[0m: name 'datetime' is not defined"
     ]
    }
   ],
   "source": [
    "date1 = datetime.datetime(2015, 10, 7)\n",
    "date2 = datetime.datetime(2015, 12, 7)\n",
    "playergames = get_playergames_in_daterange(get_engine(DB_NAME), 'Mikael Backlund', date1, date2)\n",
    "print(playergames.columns.value s)\n",
    "ICD.display(playergames)"
   ]
  },
  {
   "cell_type": "code",
   "execution_count": null,
   "metadata": {
    "collapsed": true
   },
   "outputs": [],
   "source": []
  }
 ],
 "metadata": {
  "anaconda-cloud": {},
  "kernelspec": {
   "display_name": "Python [Root]",
   "language": "python",
   "name": "Python [Root]"
  },
  "language_info": {
   "codemirror_mode": {
    "name": "ipython",
    "version": 3
   },
   "file_extension": ".py",
   "mimetype": "text/x-python",
   "name": "python",
   "nbconvert_exporter": "python",
   "pygments_lexer": "ipython3",
   "version": "3.5.2"
  }
 },
 "nbformat": 4,
 "nbformat_minor": 0
}
