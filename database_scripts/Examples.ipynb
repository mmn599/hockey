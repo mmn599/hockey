{
 "cells": [
  {
   "cell_type": "code",
   "execution_count": 3,
   "metadata": {
    "collapsed": false
   },
   "outputs": [
    {
     "name": "stdout",
     "output_type": "stream",
     "text": [
      "3\n"
     ]
    }
   ],
   "source": [
    "import db\n",
    "import datetime\n",
    "\n",
    "DB_NAME = \"../test.db\"\n",
    "\n",
    "engine = db.get_engine(DB_NAME)\n",
    "\n",
    "date1 = datetime.datetime(2015, 10, 7)\n",
    "date2 = datetime.datetime(2015, 12, 1)\n",
    "goals_scored = db.get_player_goals_scored(engine, 'Mikael Backlund', date1, date2)\n",
    "print(goals_scored)\n",
    "\n",
    "\n",
    "\n",
    "\n"
   ]
  },
  {
   "cell_type": "code",
   "execution_count": null,
   "metadata": {
    "collapsed": true
   },
   "outputs": [],
   "source": [
    "for playergame in playergames:\n",
    "    "
   ]
  }
 ],
 "metadata": {
  "kernelspec": {
   "display_name": "Python [Root]",
   "language": "python",
   "name": "Python [Root]"
  },
  "language_info": {
   "codemirror_mode": {
    "name": "ipython",
    "version": 3
   },
   "file_extension": ".py",
   "mimetype": "text/x-python",
   "name": "python",
   "nbconvert_exporter": "python",
   "pygments_lexer": "ipython3",
   "version": "3.5.2"
  }
 },
 "nbformat": 4,
 "nbformat_minor": 0
}
