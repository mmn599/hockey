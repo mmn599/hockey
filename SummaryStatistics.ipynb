{
 "cells": [
  {
   "cell_type": "code",
   "execution_count": 4,
   "metadata": {
    "collapsed": false
   },
   "outputs": [],
   "source": [
    "import scraper\n",
    "\n",
    "df_skaters, df_goalies = scraper.get_raw_playergames_df(2015)"
   ]
  },
  {
   "cell_type": "code",
   "execution_count": 5,
   "metadata": {
    "collapsed": false
   },
   "outputs": [
    {
     "name": "stdout",
     "output_type": "stream",
     "text": [
      "['Player' 'G' 'A' 'PTS' '+/-' 'PIM' 'EV' 'PP' 'SH' 'GW' 'EV.1' 'PP.1'\n",
      " 'SH.1' 'S' 'S%' 'SHFT' 'TOI' 'URL' 'DateTimestamp' 'Home' 'Team'\n",
      " 'GameName']\n",
      "['Player' 'DEC' 'GA' 'SA' 'SV' 'SV%' 'SO' 'PIM' 'TOI' 'URL' 'DateTimestamp'\n",
      " 'Home' 'Team' 'GameName']\n"
     ]
    }
   ],
   "source": [
    "print(df_skaters.columns.values)\n",
    "print(df_goalies.columns.values)"
   ]
  },
  {
   "cell_type": "code",
   "execution_count": null,
   "metadata": {
    "collapsed": true
   },
   "outputs": [],
   "source": []
  }
 ],
 "metadata": {
  "anaconda-cloud": {},
  "kernelspec": {
   "display_name": "Python [Root]",
   "language": "python",
   "name": "Python [Root]"
  },
  "language_info": {
   "codemirror_mode": {
    "name": "ipython",
    "version": 3
   },
   "file_extension": ".py",
   "mimetype": "text/x-python",
   "name": "python",
   "nbconvert_exporter": "python",
   "pygments_lexer": "ipython3",
   "version": "3.5.2"
  }
 },
 "nbformat": 4,
 "nbformat_minor": 0
}
