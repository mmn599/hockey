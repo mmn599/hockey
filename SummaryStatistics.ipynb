{
 "cells": [
  {
   "cell_type": "code",
   "execution_count": 14,
   "metadata": {
    "collapsed": false
   },
   "outputs": [
    {
     "name": "stdout",
     "output_type": "stream",
     "text": [
      "['Player' 'G' 'A' 'PTS' '+/-' 'PIM' 'EV' 'PP' 'SH' 'GW' 'A_EV' 'A_PP'\n",
      " 'A_SH' 'S' 'S%' 'SHFT' 'TOI' 'URL' 'DateTimestamp' 'Home' 'Team'\n",
      " 'GameName' 'GameNum' 'iCF' 'SATF' 'SATA' 'CF%' 'CRel%' 'ZSO' 'ZSD' 'oZS%'\n",
      " 'HIT' 'BLK']\n"
     ]
    }
   ],
   "source": [
    "import scraper\n",
    "from IPython.core import display as ICD\n",
    "import numpy as np\n",
    "import matplotlib.mlab as mlab\n",
    "import matplotlib.pyplot as plt\n",
    "import pandas as pd\n",
    "%matplotlib inline\n",
    "pd.options.display.max_columns = 999\n",
    "\n",
    "df_skaters = scraper.get_raw_skatergames_df(2015)\n",
    "df_outputs = df_skaters[['G', 'A', 'BLK', 'S']]\n",
    "print(df_skaters.columns.values)"
   ]
  },
  {
   "cell_type": "code",
   "execution_count": 15,
   "metadata": {
    "collapsed": false
   },
   "outputs": [
    {
     "name": "stderr",
     "output_type": "stream",
     "text": [
      "C:\\Anaconda3\\lib\\site-packages\\numpy\\lib\\function_base.py:3834: RuntimeWarning: Invalid value encountered in percentile\n",
      "  RuntimeWarning)\n"
     ]
    },
    {
     "data": {
      "text/html": [
       "<div>\n",
       "<table border=\"1\" class=\"dataframe\">\n",
       "  <thead>\n",
       "    <tr style=\"text-align: right;\">\n",
       "      <th></th>\n",
       "      <th>G</th>\n",
       "      <th>A</th>\n",
       "      <th>BLK</th>\n",
       "      <th>S</th>\n",
       "    </tr>\n",
       "  </thead>\n",
       "  <tbody>\n",
       "    <tr>\n",
       "      <th>count</th>\n",
       "      <td>44278.000000</td>\n",
       "      <td>44278.000000</td>\n",
       "      <td>44184.000000</td>\n",
       "      <td>44278.000000</td>\n",
       "    </tr>\n",
       "    <tr>\n",
       "      <th>mean</th>\n",
       "      <td>0.148268</td>\n",
       "      <td>0.248227</td>\n",
       "      <td>0.788543</td>\n",
       "      <td>1.651949</td>\n",
       "    </tr>\n",
       "    <tr>\n",
       "      <th>std</th>\n",
       "      <td>0.398113</td>\n",
       "      <td>0.514679</td>\n",
       "      <td>1.088603</td>\n",
       "      <td>1.520695</td>\n",
       "    </tr>\n",
       "    <tr>\n",
       "      <th>min</th>\n",
       "      <td>0.000000</td>\n",
       "      <td>0.000000</td>\n",
       "      <td>0.000000</td>\n",
       "      <td>0.000000</td>\n",
       "    </tr>\n",
       "    <tr>\n",
       "      <th>25%</th>\n",
       "      <td>0.000000</td>\n",
       "      <td>0.000000</td>\n",
       "      <td>NaN</td>\n",
       "      <td>0.000000</td>\n",
       "    </tr>\n",
       "    <tr>\n",
       "      <th>50%</th>\n",
       "      <td>0.000000</td>\n",
       "      <td>0.000000</td>\n",
       "      <td>NaN</td>\n",
       "      <td>1.000000</td>\n",
       "    </tr>\n",
       "    <tr>\n",
       "      <th>75%</th>\n",
       "      <td>0.000000</td>\n",
       "      <td>0.000000</td>\n",
       "      <td>NaN</td>\n",
       "      <td>2.000000</td>\n",
       "    </tr>\n",
       "    <tr>\n",
       "      <th>max</th>\n",
       "      <td>4.000000</td>\n",
       "      <td>5.000000</td>\n",
       "      <td>10.000000</td>\n",
       "      <td>15.000000</td>\n",
       "    </tr>\n",
       "  </tbody>\n",
       "</table>\n",
       "</div>"
      ],
      "text/plain": [
       "                  G             A           BLK             S\n",
       "count  44278.000000  44278.000000  44184.000000  44278.000000\n",
       "mean       0.148268      0.248227      0.788543      1.651949\n",
       "std        0.398113      0.514679      1.088603      1.520695\n",
       "min        0.000000      0.000000      0.000000      0.000000\n",
       "25%        0.000000      0.000000           NaN      0.000000\n",
       "50%        0.000000      0.000000           NaN      1.000000\n",
       "75%        0.000000      0.000000           NaN      2.000000\n",
       "max        4.000000      5.000000     10.000000     15.000000"
      ]
     },
     "execution_count": 15,
     "metadata": {},
     "output_type": "execute_result"
    }
   ],
   "source": [
    "df_outputs.describe()"
   ]
  },
  {
   "cell_type": "code",
   "execution_count": 31,
   "metadata": {
    "collapsed": false
   },
   "outputs": [
    {
     "data": {
      "image/png": "[encoded data removed]",
      "text/plain": [
       "<matplotlib.figure.Figure at 0x1dcc3951898>"
      ]
     },
     "metadata": {},
     "output_type": "display_data"
    }
   ],
   "source": [
    "plt.figure(figsize=(8,8))\n",
    "plt.subplot(311)\n",
    "plt.hist(df_outputs['G'], bins=5, range=[0,5])\n",
    "plt.title('Goals')\n",
    "plt.subplot(312)\n",
    "plt.hist(df_outputs['A'], bins=5, range=[0,5])\n",
    "plt.title('Assists')\n",
    "plt.subplot(313)\n",
    "plt.hist(df_outputs['S'], bins=8, range=[0,8])\n",
    "plt.title('Shots')\n",
    "plt.tight_layout()\n",
    "plt.show()"
   ]
  },
  {
   "cell_type": "code",
   "execution_count": null,
   "metadata": {
    "collapsed": true
   },
   "outputs": [],
   "source": []
  },
  {
   "cell_type": "code",
   "execution_count": null,
   "metadata": {
    "collapsed": true
   },
   "outputs": [],
   "source": []
  }
 ],
 "metadata": {
  "anaconda-cloud": {},
  "kernelspec": {
   "display_name": "Python [Root]",
   "language": "python",
   "name": "Python [Root]"
  },
  "language_info": {
   "codemirror_mode": {
    "name": "ipython",
    "version": 3
   },
   "file_extension": ".py",
   "mimetype": "text/x-python",
   "name": "python",
   "nbconvert_exporter": "python",
   "pygments_lexer": "ipython3",
   "version": "3.5.2"
  }
 },
 "nbformat": 4,
 "nbformat_minor": 0
}
