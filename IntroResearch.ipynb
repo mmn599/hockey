{
 "cells": [
  {
   "cell_type": "markdown",
   "metadata": {},
   "source": [
    "## Purpose\n",
    "\n",
    "I'm going to use this as a research notebook. It's main purpose for now will be collecting a list of the factors that impact player or goalie value.\n",
    "\n",
    "Player value is defined by DraftKings as below:\n",
    "<ul>\n",
    "<li>Goal = +3 PTS</li>\n",
    "<li>Assist = +2 PTS</li>\n",
    "<li>Shot on Goal = +0.5 PTS</li>\n",
    "<li>Blocked Shot = +0.5 PTS</li>\n",
    "<li>Short Handed Point Bonus (Goal/Assist) = +1 PTS</li>\n",
    "<li>Shootout Goal = +0.2 PTS</li>\n",
    "<li>Hat Trick Bonus = +1.5 PTS</li>\n",
    "</ul>\n",
    "\n",
    "Player value by FanDuel:\n",
    "<ul>\n",
    "<li>Goals = 12pts</li>\n",
    "<li>Assists = 8pts</li>\n",
    "<li>Shots on Goal = 1.6pts</li>\n",
    "<li>Short Handed Points = +2pts</li>\n",
    "<li>Power Play Points = +0.5pts</li>\n",
    "<li>Blocked Shots = 1.6pts</li>\n",
    "</ul>\n",
    "\n",
    "Goalie value by DraftKings:\n",
    "<ul>\n",
    "<li>Win = +3 PTS</li>\n",
    "<li>Save = +0.2 PTS</li>\n",
    "<li>Goal Against = -1 PTS</li>\n",
    "<li>Shutout Bonus = +2 PTS</li>\n",
    "</ul>\n",
    "\n",
    "Goalie value by FanDuel:\n",
    "<ul>\n",
    "<li>Wins = 12pts</li>\n",
    "<li>Goals Against = -4pts</li>\n",
    "<li>Saves = 0.8pts</li>\n",
    "<li>Shutouts = 8pts</li>\n",
    "</ul>\n",
    "\n",
    "The two scoring systems are very similar, and the analysis should not have to change much between the two.\n",
    "\n",
    "The most important part of the fantasy system is to accurately determine the distribution and expectation of point value for any  player for any particular matchup. Some analysis (and creativity) is required in order to determine what factors strongly affect a player's likelihood of scoring goals, assists, wins, etc."
   ]
  },
  {
   "cell_type": "markdown",
   "metadata": {},
   "source": [
    "## Goals Featureset\n",
    "\n",
    "What characteristics could affect a players likelihood to score goals? Some of these may seem redundant but I'm trying to be thorough.\n",
    "\n",
    "<table style=\"width: 100%\">\n",
    "  <tr>\n",
    "    <th>Stat</th>\n",
    "    <th>Correlation info</th>\n",
    "    <th>Location</th>\n",
    "  </tr>\n",
    "<tr>\n",
    "<td>Goals Per Game history</td><td></td><td></td></tr>\n",
    "<tr><td>Goals Per Game against this particular team</td><td></td><td></td></tr>\n",
    "<tr><td>Goals Per Game against this particular goalie</td><td></td><td></td></tr>\n",
    "<tr><td>Assists Per Game history</td><td></td><td></td></tr>\n",
    "<tr><td>Assists Per Game against this particular team</td><td></td><td></td></tr>\n",
    "<tr><td>Assists Per Game against this particular goalie</td><td></td><td></td></tr>\n",
    "<tr><td>Assists per game of line-mates</td><td></td><td></td></tr>\n",
    "<tr><td>Goals per game of line-mates</td><td></td><td></td></tr>\n",
    "<tr><td>Save percentage of opposing goalie</td><td></td><td></td></tr>\n",
    "<tr><td>Recent ice time for player</td><td></td><td></td></tr>\n",
    "<tr><td>Number of games played recently</td><td></td><td></td></tr>\n",
    "<tr><td>Rookie or veteran player</td><td></td><td></td></tr>\n",
    "<tr><td>Shifts per game</td><td></td><td></td></tr>\n",
    "<tr><td>Plus minus</td><td></td><td></td></tr>\n",
    "<tr><td>Penalty minutes</td><td></td><td></td></tr>\n",
    "<tr><td>Power play goals</td><td></td><td></td></tr>\n",
    "<tr><td>Power play assists</td><td></td><td></td></tr>\n",
    "<tr><td>Short handed goals</td><td></td><td></td></tr>\n",
    "<tr><td>Short handed assists</td><td></td><td></td></tr>\n",
    "<tr><td>Game winning goals</td><td></td><td></td></tr>\n",
    "<tr><td>Overtime goals</td><td></td><td></td></tr>\n",
    "<tr><td>Shots</td><td></td><td></td></tr>\n",
    "<tr><td>Shot percentage</td><td></td><td></td></tr>\n",
    "<tr><td>Time on ice per game</td><td></td><td></td></tr>\n",
    "</table>\n",
    "\n",
    "\n"
   ]
  },
  {
   "cell_type": "code",
   "execution_count": 73,
   "metadata": {
    "collapsed": false
   },
   "outputs": [
    {
     "name": "stdout",
     "output_type": "stream",
     "text": [
      "['Rk', 'Player', 'Age', 'Pos', 'Tm', 'GP', 'G', 'A', 'PTS', '+/-', 'PIM', 'EV', 'PP', 'SH', 'GW', 'EV.1', 'PP.1', 'SH.1', 'S', 'S%', 'TOI', 'ATOI', 'BLK', 'HIT', 'FOW', 'FOL', 'FO%']\n",
      "['Age', 'GP', 'A', '+/-', 'PIM', 'S', 'TOI', 'BLK', 'HIT', 'FOW', 'FOL']\n"
     ]
    },
    {
     "data": {
      "image/png": "[encoded data removed]",
      "text/plain": [
       "<matplotlib.figure.Figure at 0x232640de518>"
      ]
     },
     "metadata": {},
     "output_type": "display_data"
    },
    {
     "name": "stdout",
     "output_type": "stream",
     "text": [
      "After a simple training of an MLR model, the featurescoefficient values are:\n",
      "Age : -0.0244170511778\n",
      "GP : 0.0182574745415\n",
      "A : 0.0141495634987\n",
      "+/- : 0.118176228244\n",
      "PIM : 0.000597504354923\n",
      "S : 0.101980645822\n",
      "TOI : 0.000620994967898\n",
      "BLK : -0.059509784812\n",
      "HIT : 0.000147904593041\n",
      "FOW : 0.00534717334278\n",
      "FOL : -0.00153689835751\n"
     ]
    }
   ],
   "source": [
    "%matplotlib inline\n",
    "import matplotlib.pyplot as plt\n",
    "import pandas as pd\n",
    "import numpy as np\n",
    "from sklearn.linear_model import LinearRegression\n",
    "data = pd.read_csv('./data/testdata.csv')\n",
    "\n",
    "column_names = list(data.columns.values)\n",
    "feature_cols = column_names.copy()\n",
    "print(feature_cols)\n",
    "feature_cols.remove('Rk')\n",
    "feature_cols.remove('Player')\n",
    "feature_cols.remove('Pos')\n",
    "feature_cols.remove('Tm')\n",
    "feature_cols.remove('ATOI')\n",
    "feature_cols.remove('PTS')\n",
    "feature_cols.remove('G')\n",
    "feature_cols.remove('EV')\n",
    "feature_cols.remove('PP')\n",
    "feature_cols.remove('SH')\n",
    "feature_cols.remove('GW')\n",
    "feature_cols.remove('S%')\n",
    "feature_cols.remove('EV.1')\n",
    "feature_cols.remove('PP.1')\n",
    "feature_cols.remove('SH.1')\n",
    "#TODO: get rid of this\n",
    "feature_cols.remove('FO%')\n",
    "print(feature_cols)\n",
    "\n",
    "X = data[feature_cols]\n",
    "y = data['G']\n",
    "\n",
    "lm = LinearRegression()\n",
    "lm.fit(X, y)\n",
    "coefficients = zip(feature_cols, lm.coef_)\n",
    "\n",
    "plt.figure(figsize=(8,8))\n",
    "x = range(len(feature_cols))\n",
    "plt.xticks(x, feature_cols)\n",
    "plt.scatter(x, lm.coef_)\n",
    "plt.title('Stat vs Coefficient in MLR Model')\n",
    "plt.show()\n",
    "\n",
    "print('After a simple training of an MLR model, the featurescoefficient values are:')\n",
    "for i, coef in enumerate(lm.coef_):\n",
    "    print(feature_cols[i] + ' : ' + str(coef))"
   ]
  },
  {
   "cell_type": "code",
   "execution_count": null,
   "metadata": {
    "collapsed": true
   },
   "outputs": [],
   "source": []
  }
 ],
 "metadata": {
  "anaconda-cloud": {},
  "kernelspec": {
   "display_name": "Python [Root]",
   "language": "python",
   "name": "Python [Root]"
  },
  "language_info": {
   "codemirror_mode": {
    "name": "ipython",
    "version": 3
   },
   "file_extension": ".py",
   "mimetype": "text/x-python",
   "name": "python",
   "nbconvert_exporter": "python",
   "pygments_lexer": "ipython3",
   "version": "3.5.2"
  }
 },
 "nbformat": 4,
 "nbformat_minor": 0
}
