{
 "cells": [
  {
   "cell_type": "markdown",
   "metadata": {},
   "source": [
    "## Database thoughts\n",
    "\n",
    "Here's what we want to be able to easily get: <br>\n",
    "(1) List of players competing in game <br>\n",
    "(2) List of games a player has played in <br>\n",
    "(3) List of games based on date range <br>\n",
    "(4) All stats for each game <br>\n",
    "(5) Summation of stats for a particular player's games over a particular date range <br>\n",
    "\n",
    "Tables <br>\n",
    "(1) GAME_OVERALL<br>\n",
    "(2) SKATER_GAME<br>\n",
    "(3) GOALIE_GAME<br>\n",
    "(4) PLAYER<br>\n",
    "(5) TEAM"
   ]
  },
  {
   "cell_type": "markdown",
   "metadata": {},
   "source": [
    "## Database building functions"
   ]
  },
  {
   "cell_type": "code",
   "execution_count": 96,
   "metadata": {
    "collapsed": false
   },
   "outputs": [],
   "source": [
    "import sys\n",
    "import pandas as pd\n",
    "import sqlalchemy\n",
    "import glob\n",
    "from IPython.core import display as ICD\n",
    "\n",
    "PLAYERGAME_DIR = \"./Games/\"\n",
    "GAMESFILE = \"./Games/2015Games.csv\"\n",
    "PLAYER_STATS_FILE = \"PlayerStats\"\n",
    "HOME = \"Home\"\n",
    "AWAY = \"Away\"\n",
    "\n",
    "DATABASE_LOC = \"test3.db\"\n",
    "TABLE_GAMEOVERALL = \"GAME_STATS\"\n",
    "TABLE_PLAYERGAME = \"SKATER_GAME\"\n",
    "TABLE_GOALIEGAME = \"GOALIE_GAME\"\n",
    "TABLE_PLAYER = \"PLAYER\"\n",
    "TABLE_TEAM = \"TEAM\"\n",
    "\n",
    "def get_playerstats_files(gamename):\n",
    "    team1 = PLAYERGAME_DIR + gamename + '_' + PLAYER_STATS_FILE + HOME + '.csv'\n",
    "    team2 = PLAYERGAME_DIR + gamename + '_' + PLAYER_STATS_FILE + AWAY + '.csv'\n",
    "    return team1, team2\n",
    "\n",
    "def gamefile_to_gamename(gamefile):\n",
    "    gamename = str(gamefile)\n",
    "    gamename = gamename.replace('.csv', '')\n",
    "    gamename = gamename.replace(\"./Games\\\\\", '')\n",
    "    return gamename\n",
    "\n",
    "def append_columns(game, team1, team2):\n",
    "    d_game['GameName'] = gamename\n",
    "    d_team1['GameName'] = gamename\n",
    "    d_team2['GameName'] = gamename\n",
    "    d_team1['Result'] = TEAM1\n",
    "    \n",
    "def get_gamename(game):\n",
    "    return str(2015) + \"_\" + str(game[0])\n",
    "\n",
    "def build_database(databasename):    \n",
    "    engine = sqlalchemy.create_engine('sqlite:///' + databasename)\n",
    "    d_games = pd.read_csv(GAMESFILE)\n",
    "    gamenames = []\n",
    "    dates = []\n",
    "    for game in d_games.iterrows():\n",
    "        gamename = get_gamename(game)\n",
    "        gamenames.append(gamename)\n",
    "        dt = datetime.datetime.strptime(game[1][0], '%Y-%m-%d')\n",
    "        date = int(dt.timestamp())\n",
    "        dates.append(date)\n",
    "    d_games['DateTimestamp'] = dates\n",
    "    d_games['GameName'] = gamenames\n",
    "    d_games = d_games.drop('Notes', 1)\n",
    "    d_games.OT = d_games.OT==\"OT\"\n",
    "    d_games.to_sql(TABLE_GAMEOVERALL, engine, if_exists='replace')\n",
    "    \n",
    "build_database(DATABASE_LOC)"
   ]
  },
  {
   "cell_type": "markdown",
   "metadata": {},
   "source": [
    "## Database lookup functions"
   ]
  },
  {
   "cell_type": "code",
   "execution_count": null,
   "metadata": {
    "collapsed": true
   },
   "outputs": [],
   "source": [
    "def games_in_daterange(date1, date2):\n",
    "    date1 = int(date1.timestamp())\n",
    "    date2 = int(date2.timestamp())\n",
    "    engine = sqlalchemy.create_engine('sqlite:///' + DATABASE_LOC)\n",
    "    sql_query = 'SELECT * from ' + TABLE_GAMEOVERALL + ' WHERE DateTimestamp >= ' + str(date1) + ' AND ' + 'DateTimestamp <= ' + str(date2)\n",
    "    games = pd.read_sql_query(sql_query, engine)\n",
    "    return games"
   ]
  },
  {
   "cell_type": "code",
   "execution_count": null,
   "metadata": {
    "collapsed": true
   },
   "outputs": [],
   "source": []
  }
 ],
 "metadata": {
  "kernelspec": {
   "display_name": "Python [Root]",
   "language": "python",
   "name": "Python [Root]"
  },
  "language_info": {
   "codemirror_mode": {
    "name": "ipython",
    "version": 3
   },
   "file_extension": ".py",
   "mimetype": "text/x-python",
   "name": "python",
   "nbconvert_exporter": "python",
   "pygments_lexer": "ipython3",
   "version": "3.5.2"
  }
 },
 "nbformat": 4,
 "nbformat_minor": 0
}
