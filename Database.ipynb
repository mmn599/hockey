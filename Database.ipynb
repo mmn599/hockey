{
 "cells": [
  {
   "cell_type": "markdown",
   "metadata": {},
   "source": [
    "## Database thoughts\n",
    "\n",
    "Here's what we want to be able to easily get: <br>\n",
    "(1) List of players competing in game <br>\n",
    "(2) List of games a player has played in <br>\n",
    "(3) List of games based on date range <br>\n",
    "(4) All stats for each game <br>\n",
    "(5) Summation of stats for a particular player's games over a particular date range <br>\n",
    "\n",
    "Tables <br>\n",
    "(1) GAME_OVERALL<br>\n",
    "(2) SKATER_GAME<br>\n",
    "(3) GOALIE_GAME<br>\n",
    "(4) PLAYER<br>\n",
    "(5) TEAM"
   ]
  },
  {
   "cell_type": "markdown",
   "metadata": {},
   "source": [
    "## Database building functions"
   ]
  },
  {
   "cell_type": "code",
   "execution_count": 77,
   "metadata": {
    "collapsed": false
   },
   "outputs": [],
   "source": [
    "import sys\n",
    "import pandas as pd\n",
    "import sqlalchemy\n",
    "import glob\n",
    "from IPython.core import display as ICD\n",
    "import datetime\n",
    "\n",
    "### Constants ###\n",
    "DIR_GAMES = \"./data/Games/\"\n",
    "FILE_GAMES = DIR_GAMES + \"2015Games.csv\"\n",
    "PLAYER_STATS_FILE = \"PlayerStats\"\n",
    "HOME = \"Home\"\n",
    "AWAY = \"Away\"\n",
    "DB_NAME = \"test3.db\"\n",
    "TABLE_GAMEOVERALL = \"GAME_STATS\"\n",
    "TABLE_PLAYERGAME = \"SKATER_GAME\"\n",
    "TABLE_GOALIEGAME = \"GOALIE_GAME\"\n",
    "TABLE_PLAYER = \"PLAYER\"\n",
    "TABLE_TEAM = \"TEAM\"\n",
    "\n",
    "def get_playerstats_files(gamename):\n",
    "    team1 = GAMESDIR + gamename + '_' + PLAYER_STATS_FILE + HOME + '.csv'\n",
    "    team2 = GAMESDIR + gamename + '_' + PLAYER_STATS_FILE + AWAY + '.csv'\n",
    "    return team1, team2\n",
    "\n",
    "def gamefile_to_gamename(gamefile):\n",
    "    gamename = str(gamefile)\n",
    "    gamename = gamename.replace('.csv', '')\n",
    "    gamename = gamename.replace(\"./Games\\\\\", '')\n",
    "    return gamename\n",
    "\n",
    "def append_columns(game, team1, team2):\n",
    "    d_game['GameName'] = gamename\n",
    "    d_team1['GameName'] = gamename\n",
    "    d_team2['GameName'] = gamename\n",
    "    d_team1['Result'] = TEAM1\n",
    "    \n",
    "def get_gamename(game):\n",
    "    return str(2015) + \"_\" + str(game[0])\n",
    "\n",
    "def build_database(db_name, csv_games):    \n",
    "    engine = get_engine(db_name)\n",
    "    d_games = pd.read_csv(csv_games)\n",
    "    gamenames = []\n",
    "    dates = []\n",
    "    # TODO: get rid of this for loop\n",
    "    for game in d_games.iterrows():\n",
    "        gamename = get_gamename(game)\n",
    "        gamenames.append(gamename)\n",
    "        dt = datetime.datetime.strptime(game[1][1], '%Y-%m-%d')\n",
    "        date = int(dt.timestamp())\n",
    "        dates.append(date)\n",
    "    d_games['DateTimestamp'] = dates\n",
    "    d_games['GameName'] = gamenames\n",
    "    d_games = d_games.rename(index=str, columns={\"Unnamed: 6\":\"OT\"})\n",
    "    d_games = d_games.drop('Notes', 1)\n",
    "    d_games.OT = d_games.OT==\"OT\"\n",
    "    d_games.to_sql(TABLE_GAMEOVERALL, engine, if_exists='replace')"
   ]
  },
  {
   "cell_type": "markdown",
   "metadata": {},
   "source": [
    "## Database lookup functions"
   ]
  },
  {
   "cell_type": "code",
   "execution_count": 55,
   "metadata": {
    "collapsed": true
   },
   "outputs": [],
   "source": [
    "def get_engine(db_name):\n",
    "    return sqlalchemy.create_engine('sqlite:///' + db_name)\n",
    "\n",
    "def view_database(db_name, table):\n",
    "    engine = get_engine(db_name)\n",
    "    d_db = pd.read_sql_table(table, engine)\n",
    "    ICD.display(d_db)\n",
    "\n",
    "def games_in_daterange(date1, date2):\n",
    "    date1 = int(date1.timestamp())\n",
    "    date2 = int(date2.timestamp())\n",
    "    engine = sqlalchemy.create_engine('sqlite:///' + DATABASE_LOC)\n",
    "    sql_query = 'SELECT * from ' + TABLE_GAMEOVERALL + ' WHERE DateTimestamp >= ' + str(date1) + ' AND ' + 'DateTimestamp <= ' + str(date2)\n",
    "    games = pd.read_sql_query(sql_query, engine)\n",
    "    return games"
   ]
  },
  {
   "cell_type": "markdown",
   "metadata": {},
   "source": [
    "## Web scraping functions"
   ]
  },
  {
   "cell_type": "code",
   "execution_count": 118,
   "metadata": {
    "collapsed": false
   },
   "outputs": [],
   "source": [
    "import urllib.request\n",
    "import pandas as pd\n",
    "from bs4 import BeautifulSoup\n",
    "import csv\n",
    "\n",
    "URL_Games_20152016 = \"http://www.hockey-reference.com/leagues/NHL_2016_games.html\"\n",
    "\n",
    "def build_games_csv(url):\n",
    "    soup = BeautifulSoup(urllib.request.urlopen(url).read(), \"lxml\")\n",
    "\n",
    "    tablehead = soup.find('thead')\n",
    "    tablebody = soup.find('tbody')\n",
    "\n",
    "    headers = [header.text for header in tablehead.find('tr').find_all('th')]\n",
    "    headers.insert(0, \"URL\")\n",
    "    rows = []\n",
    "\n",
    "    for row in tablebody.find_all('tr'):\n",
    "        cells = [cell.text for cell in row.find_all(['th','td'])]\n",
    "        url = 'http://www.hockey-reference.com' + row.find('th').find('a')['href']\n",
    "        cells.insert(0, url)\n",
    "        rows.append(cells)\n",
    "\n",
    "    with open(GAMESFILE, 'w') as csvfile:\n",
    "        writer = csv.DictWriter(csvfile, fieldnames=headers)\n",
    "        writer.writeheader()\n",
    "        for row in rows:\n",
    "            row_dict = {}\n",
    "            for i,cell in enumerate(row):\n",
    "                row_dict[headers[i]] = cell\n",
    "            writer.writerow(row_dict)\n",
    "\n",
    "\n",
    "    \n",
    "def get_playergame_csvname(gamename, home, skaters):\n",
    "    if(home):\n",
    "        return game\n",
    "    return gamename + \"_\" + \n",
    "            \n",
    "def build_playergame_csv(gamename, url):\n",
    "    soup = BeautifulSoup(urllib.request.urlopen(url).read(), \"lxml\")\n",
    "#     tables = soup.find_all('div', {\"class\":\"table_wrapper\"})\n",
    "    table_skaters_away = soup.find_all('table')[2]\n",
    "    table_goalies_away = soup.find_all('table')[3]\n",
    "    table_skaters_home = soup.find_all('table')[4]\n",
    "    table_goalies_home = soup.find_all('table')[5]\n",
    "    print(table_skaters_away)\n",
    "    print(table_goalies_away)\n",
    "    print(table_skaters_home)\n",
    "    print(table_goalies_home)"
   ]
  },
  {
   "cell_type": "markdown",
   "metadata": {},
   "source": [
    "## Temporary"
   ]
  },
  {
   "cell_type": "code",
   "execution_count": 119,
   "metadata": {
    "collapsed": false
   },
   "outputs": [
    {
     "name": "stdout",
     "output_type": "stream",
     "text": [
      "<table class=\"sortable stats_table\" data-cols-to-freeze=\"2\" id=\"CGY_goalies\"><caption>Goalies Table</caption>\n",
      "<colgroup><col></col><col></col><col></col><col></col><col></col><col></col><col></col><col></col><col></col><col></col></colgroup>\n",
      "<thead>\n",
      "<tr class=\"over_header\">\n",
      "<th aria-label=\"\" class=\" over_header \" colspan=\"3\" data-stat=\"\"></th>\n",
      "<th aria-label=\"\" class=\" over_header center\" colspan=\"5\" data-stat=\"header_goalies\">Goalie Stats</th><th></th><th></th>\n",
      "</tr>\n",
      "<tr>\n",
      "<th aria-label=\"Rank\" class=\"ranker tooltip sort_default_asc show_partial_when_sorting center\" data-stat=\"ranker\" data-tip=\"Rank\" scope=\"col\">Rk</th>\n",
      "<th aria-label=\"Player\" class=\" tooltip sort_default_asc left\" data-stat=\"player\" scope=\"col\">Player</th>\n",
      "<th aria-label=\"Decision\" class=\" tooltip sort_default_asc center\" data-stat=\"decision\" data-tip=\"Decision\" scope=\"col\">DEC</th>\n",
      "<th aria-label=\"Goals Against\" class=\" tooltip center\" data-over-header=\"Goalie Stats\" data-stat=\"goals_against\" data-tip=\"Goals Against\" scope=\"col\">GA</th>\n",
      "<th aria-label=\"Shots Against\" class=\" tooltip center\" data-over-header=\"Goalie Stats\" data-stat=\"shots_against\" data-tip=\"Shots Against\" scope=\"col\">SA</th>\n",
      "<th aria-label=\"Saves\" class=\" tooltip center\" data-over-header=\"Goalie Stats\" data-stat=\"saves\" data-tip=\"Saves\" scope=\"col\">SV</th>\n",
      "<th aria-label=\"Save Percentage\" class=\" tooltip center\" data-over-header=\"Goalie Stats\" data-stat=\"save_pct\" data-tip=\"Save Percentage\" scope=\"col\">SV%</th>\n",
      "<th aria-label=\"Shutouts\" class=\" tooltip center\" data-over-header=\"Goalie Stats\" data-stat=\"shutouts\" data-tip=\"Shutouts\" scope=\"col\">SO</th>\n",
      "<th aria-label=\"Penalties in Minutes\" class=\" tooltip center\" data-stat=\"pen_min\" data-tip=\"Penalties in Minutes\" scope=\"col\">PIM</th>\n",
      "<th aria-label=\"Time on Ice\" class=\" tooltip center\" data-over-header=\"Ice Time\" data-stat=\"time_on_ice\" data-tip=\"Time on Ice (in minutes)\" scope=\"col\">TOI</th>\n",
      "</tr>\n",
      "</thead>\n",
      "<tbody><tr><th class=\"right \" csk=\"1\" data-stat=\"ranker\" scope=\"row\">1</th><td class=\"left \" csk=\"Ramo,Karri\" data-append-csv=\"ramoka01\" data-stat=\"player\"><a href=\"/players/r/ramoka01.html\">Karri Ramo</a></td><td class=\"center \" data-stat=\"decision\">L</td><td class=\"right \" data-stat=\"goals_against\">5</td><td class=\"right \" data-stat=\"shots_against\">44</td><td class=\"right \" data-stat=\"saves\">39</td><td class=\"right \" data-stat=\"save_pct\">.886</td><td class=\"right \" data-stat=\"shutouts\">0</td><td class=\"right \" data-stat=\"pen_min\">0</td><td class=\"right \" csk=\"3600\" data-stat=\"time_on_ice\">60:00</td></tr>\n",
      "</tbody></table>\n"
     ]
    }
   ],
   "source": [
    "# get_games_csv(URL_Games_20152016)\n",
    "# build_database(DB_NAME, FILE_GAMES)\n",
    "# view_database(DB_NAME, TABLE_GAMEOVERALL)\n",
    "\n",
    "build_playergame_csv(\"Game1\", \"http://www.hockey-reference.com/boxscores/201510070CGY.html\")"
   ]
  },
  {
   "cell_type": "code",
   "execution_count": null,
   "metadata": {
    "collapsed": true
   },
   "outputs": [],
   "source": []
  }
 ],
 "metadata": {
  "anaconda-cloud": {},
  "kernelspec": {
   "display_name": "Python [Root]",
   "language": "python",
   "name": "Python [Root]"
  },
  "language_info": {
   "codemirror_mode": {
    "name": "ipython",
    "version": 3
   },
   "file_extension": ".py",
   "mimetype": "text/x-python",
   "name": "python",
   "nbconvert_exporter": "python",
   "pygments_lexer": "ipython3",
   "version": "3.5.2"
  }
 },
 "nbformat": 4,
 "nbformat_minor": 0
}
