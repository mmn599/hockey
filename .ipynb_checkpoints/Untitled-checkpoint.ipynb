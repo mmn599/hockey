{
 "cells": [
  {
   "cell_type": "markdown",
   "metadata": {},
   "source": [
    "## Purpose\n",
    "\n",
    "I'm going to use this as a research notebook. It's main purpose for now will be collecting a list of the factors that impact player or goalie value.\n",
    "\n",
    "Player value is defined by DraftKings as below:\n",
    "<ul>\n",
    "<li>Goal = +3 PTS</li>\n",
    "<li>Assist = +2 PTS</li>\n",
    "<li>Shot on Goal = +0.5 PTS</li>\n",
    "<li>Blocked Shot = +0.5 PTS</li>\n",
    "<li>Short Handed Point Bonus (Goal/Assist) = +1 PTS</li>\n",
    "<li>Shootout Goal = +0.2 PTS</li>\n",
    "<li>Hat Trick Bonus = +1.5 PTS</li>\n",
    "</ul>\n",
    "\n",
    "Player value by FanDuel:\n",
    "<ul>\n",
    "<li>Goals = 12pts</li>\n",
    "<li>Assists = 8pts</li>\n",
    "<li>Shots on Goal = 1.6pts</li>\n",
    "<li>Short Handed Points = +2pts</li>\n",
    "<li>Power Play Points = +0.5pts</li>\n",
    "<li>Blocked Shots = 1.6pts</li>\n",
    "</ul>\n",
    "\n",
    "Goalie value by DraftKings:\n",
    "<ul>\n",
    "<li>Win = +3 PTS</li>\n",
    "<li>Save = +0.2 PTS</li>\n",
    "<li>Goal Against = -1 PTS</li>\n",
    "<li>Shutout Bonus = +2 PTS</li>\n",
    "</ul>\n",
    "\n",
    "Goalie value by FanDuel:\n",
    "<ul>\n",
    "<li>Wins = 12pts</li>\n",
    "<li>Goals Against = -4pts</li>\n",
    "<li>Saves = 0.8pts</li>\n",
    "<li>Shutouts = 8pts</li>\n",
    "</ul>\n",
    "\n",
    "The two scoring systems are very similar, and the analysis should not have to change much between the two.\n",
    "\n",
    "The most important part of the fantasy system is to accurately determine the distribution and expectation of point value for any  player for any particular matchup. Some analysis (and creativity) is required in order to determine what factors strongly affect a player's likelihood of scoring goals, assists, wins, etc."
   ]
  },
  {
   "cell_type": "markdown",
   "metadata": {},
   "source": [
    "## Goals Featureset\n",
    "\n",
    "What characteristics could affect a players likelihood to score goals? Some of these may seem redundant but I'm trying to be thorough.\n",
    "\n",
    "<table style=\"width: 100%\">\n",
    "  <tr>\n",
    "    <th>Stat</th>\n",
    "    <th>Correlation info</th>\n",
    "    <th>Location</th>\n",
    "  </tr>\n",
    "<tr>\n",
    "<td>Goals Per Game history</td><td></td><td></td></tr>\n",
    "<tr><td>Goals Per Game against this particular team</td><td></td><td></td></tr>\n",
    "<tr><td>Goals Per Game against this particular goalie</td><td></td><td></td></tr>\n",
    "<tr><td>Assists Per Game history</td><td></td><td></td></tr>\n",
    "<tr><td>Assists Per Game against this particular team</td><td></td><td></td></tr>\n",
    "<tr><td>Assists Per Game against this particular goalie</td><td></td><td></td></tr>\n",
    "<tr><td>Assists per game of line-mates</td><td></td><td></td></tr>\n",
    "<tr><td>Goals per game of line-mates</td><td></td><td></td></tr>\n",
    "<tr><td>Save percentage of opposing goalie</td><td></td><td></td></tr>\n",
    "<tr><td>Recent ice time for player</td><td></td><td></td></tr>\n",
    "<tr><td>Number of games played recently</td><td></td><td></td></tr>\n",
    "<tr><td>Rookie or veteran player</td><td></td><td></td></tr>\n",
    "<tr><td>Shifts per game</td><td></td><td></td></tr>\n",
    "<tr><td>Plus minus</td><td></td><td></td></tr>\n",
    "<tr><td>Penalty minutes</td><td></td><td></td></tr>\n",
    "<tr><td>Power play goals</td><td></td><td></td></tr>\n",
    "<tr><td>Power play assists</td><td></td><td></td></tr>\n",
    "<tr><td>Short handed goals</td><td></td><td></td></tr>\n",
    "<tr><td>Short handed assists</td><td></td><td></td></tr>\n",
    "<tr><td>Game winning goals</td><td></td><td></td></tr>\n",
    "<tr><td>Overtime goals</td><td></td><td></td></tr>\n",
    "<tr><td>Shots</td><td></td><td></td></tr>\n",
    "<tr><td>Shot percentage</td><td></td><td></td></tr>\n",
    "<tr><td>Time on ice per game</td><td></td><td></td></tr>\n",
    "</table>\n",
    "\n",
    "\n"
   ]
  },
  {
   "cell_type": "code",
   "execution_count": null,
   "metadata": {
    "collapsed": true
   },
   "outputs": [],
   "source": []
  }
 ],
 "metadata": {
  "kernelspec": {
   "display_name": "Python [Root]",
   "language": "python",
   "name": "Python [Root]"
  },
  "language_info": {
   "codemirror_mode": {
    "name": "ipython",
    "version": 3
   },
   "file_extension": ".py",
   "mimetype": "text/x-python",
   "name": "python",
   "nbconvert_exporter": "python",
   "pygments_lexer": "ipython3",
   "version": "3.5.2"
  }
 },
 "nbformat": 4,
 "nbformat_minor": 0
}
