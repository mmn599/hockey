{
 "cells": [
  {
   "cell_type": "code",
   "execution_count": null,
   "metadata": {
    "collapsed": false,
    "scrolled": false
   },
   "outputs": [],
   "source": [
    "import scraper\n",
    "import features\n",
    "from IPython.core import display as ICD\n",
    "from sklearn.externals import joblib\n",
    "\n",
    "X = joblib.load('test1.p')\n",
    "X = X.sort_values(['DateTimestamp', 'GameName'], ascending=False)\n",
    "ICD.display(X[0:5])"
   ]
  },
  {
   "cell_type": "code",
   "execution_count": null,
   "metadata": {
    "collapsed": false
   },
   "outputs": [],
   "source": [
    "goals = X['O_Goals']\n",
    "ICD.display(goals[0:5])\n",
    "n = X[[9,10,11,12,13,14,15,16,17,18,19,20,21,22,23,24]]\n",
    "ICD.display(n[0:5])"
   ]
  },
  {
   "cell_type": "code",
   "execution_count": null,
   "metadata": {
    "collapsed": false
   },
   "outputs": [],
   "source": [
    "%matplotlib inline\n",
    "X.plot.scatter(x='TS_Goals', y='O_Goals')\n",
    "X.plot.scatter(x='TS_Assists', y='O_Goals')\n",
    "X.plot.scatter(x='TS_PlusMinus', y='O_Goals')\n",
    "X.plot.scatter(x='TS_SoG', y='O_Goals')\n",
    "X.plot.scatter(x='TS_Shot%', y='O_Goals')\n",
    "X.plot.scatter(x='TS_ATOI', y='O_Goals')\n",
    "X.plot.scatter(x='TS_iCF', y='O_Goals')\n",
    "X.plot.scatter(x='TS_SATF', y='O_Goals')\n",
    "X.plot.scatter(x='TS_SATA', y='O_Goals')\n",
    "X.plot.scatter(x='TS_ZSO', y='O_Goals')\n",
    "X.plot.scatter(x='TS_HIT', y='O_Goals')\n",
    "X.plot.scatter(x='TS_BLK', y='O_Goals')\n",
    "X.plot.scatter(x='TM_Goals', y='O_Goals')\n",
    "X.plot.scatter(x='Opp_GA', y='O_Goals')\n",
    "X.plot.scatter(x='Opp_SV%', y='O_Goals')"
   ]
  },
  {
   "cell_type": "code",
   "execution_count": null,
   "metadata": {
    "collapsed": false
   },
   "outputs": [],
   "source": [
    "df_games = scraper.get_raw_overallgames_df(2015)\n",
    "\n",
    "game = df_games[df_games.GameName == '2015_1229']\n",
    "print(game['URL'][0])"
   ]
  },
  {
   "cell_type": "code",
   "execution_count": null,
   "metadata": {
    "collapsed": true
   },
   "outputs": [],
   "source": []
  }
 ],
 "metadata": {
  "anaconda-cloud": {},
  "kernelspec": {
   "display_name": "Python [conda root]",
   "language": "python",
   "name": "conda-root-py"
  },
  "language_info": {
   "codemirror_mode": {
    "name": "ipython",
    "version": 3
   },
   "file_extension": ".py",
   "mimetype": "text/x-python",
   "name": "python",
   "nbconvert_exporter": "python",
   "pygments_lexer": "ipython3",
   "version": "3.5.2"
  }
 },
 "nbformat": 4,
 "nbformat_minor": 0
}
